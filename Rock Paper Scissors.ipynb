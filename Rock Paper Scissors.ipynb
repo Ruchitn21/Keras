{
 "cells": [
  {
   "cell_type": "code",
   "execution_count": 42,
   "metadata": {},
   "outputs": [],
   "source": [
    "import numpy as np\n",
    "import os\n",
    "import tensorflow.compat.v1 as tf\n",
    "tf.disable_v2_behavior()\n",
    "from tensorflow import keras\n",
    "from tensorflow.keras import Sequential\n",
    "from tensorflow.keras.preprocessing.image import ImageDataGenerator\n",
    "from tensorflow.keras.layers import Conv2D,MaxPool2D,Dropout,Flatten,Dense\n",
    "from tensorflow.keras.optimizers import RMSprop"
   ]
  },
  {
   "cell_type": "code",
   "execution_count": 19,
   "metadata": {},
   "outputs": [],
   "source": [
    "train_rock_dir=\"E:/Machine Learning/Machine Learning/Neural Networks/CNN/RockPaperScissor/rps/rock\"\n",
    "train_paper_dir=\"E:/Machine Learning/Machine Learning/Neural Networks/CNN/RockPaperScissor/rps/paper\"\n",
    "train_scissor_dir=\"E:/Machine Learning/Machine Learning/Neural Networks/CNN/RockPaperScissor/rps/scissors\"\n",
    "\n",
    "test_rock_dir=\"E:/Machine Learning/Machine Learning/Neural Networks/CNN/RockPaperScissor/rps-test-set/rock\"\n",
    "test_paper_dir=\"E:/Machine Learning/Machine Learning/Neural Networks/CNN/RockPaperScissor/rps-test-set/paper\"\n",
    "test_scissor_dir=\"E:/Machine Learning/Machine Learning/Neural Networks/CNN/RockPaperScissor/rps-test-set/scissors\""
   ]
  },
  {
   "cell_type": "code",
   "execution_count": 21,
   "metadata": {},
   "outputs": [
    {
     "name": "stdout",
     "output_type": "stream",
     "text": [
      "['rock01-000.png', 'rock01-001.png', 'rock01-002.png', 'rock01-003.png', 'rock01-004.png']\n",
      "['paper01-000.png', 'paper01-001.png', 'paper01-002.png', 'paper01-003.png', 'paper01-004.png']\n",
      "['scissors01-000.png', 'scissors01-001.png', 'scissors01-002.png', 'scissors01-003.png', 'scissors01-004.png']\n",
      "['testrock01-00.png', 'testrock01-01.png', 'testrock01-02.png', 'testrock01-03.png', 'testrock01-04.png']\n",
      "['testpaper01-00.png', 'testpaper01-01.png', 'testpaper01-02.png', 'testpaper01-03.png', 'testpaper01-04.png']\n",
      "['testscissors01-00.png', 'testscissors01-01.png', 'testscissors01-02.png', 'testscissors01-03.png', 'testscissors01-04.png']\n"
     ]
    }
   ],
   "source": [
    "train_rock_names= os.listdir(train_rock_dir)\n",
    "print(train_rock_names[:5])\n",
    "train_paper_names= os.listdir(train_paper_dir)\n",
    "print(train_paper_names[:5])\n",
    "train_scissor_names= os.listdir(train_scissor_dir)\n",
    "print(train_scissor_names[:5])\n",
    "\n",
    "print(os.listdir(test_rock_dir)[:5])\n",
    "print(os.listdir(test_paper_dir)[:5])\n",
    "print(os.listdir(test_scissor_dir)[:5])"
   ]
  },
  {
   "cell_type": "code",
   "execution_count": 28,
   "metadata": {},
   "outputs": [
    {
     "name": "stdout",
     "output_type": "stream",
     "text": [
      "length of train_rock_pics :  840\n",
      "length of train_paper_pics :  840\n",
      "length of train_scissors_pics :  840\n",
      "\n",
      "lenth of test_rock_pics :  124\n",
      "lenth of test_paper_pics :  124\n",
      "lenth of test_scissors_pics :  124\n"
     ]
    }
   ],
   "source": [
    "print(\"length of train_rock_pics : \",len(train_rock_names))\n",
    "print(\"length of train_paper_pics : \",len(train_paper_names))\n",
    "print(\"length of train_scissors_pics : \",len(train_scissor_names))\n",
    "\n",
    "print(\"\\nlenth of test_rock_pics : \",len(os.listdir(test_rock_dir)))\n",
    "print(\"lenth of test_paper_pics : \",len(os.listdir(test_paper_dir)))\n",
    "print(\"lenth of test_scissors_pics : \",len(os.listdir(test_scissor_dir)))"
   ]
  },
  {
   "cell_type": "code",
   "execution_count": 36,
   "metadata": {},
   "outputs": [],
   "source": [
    "train_datagen= ImageDataGenerator(rescale=1.0/255,\n",
    "                                 rotation_range=40,\n",
    "                                 width_shift_range=0.2,\n",
    "                                 height_shift_range=0.2,\n",
    "                                 shear_range=0.2,\n",
    "                                 zoom_range=0.2,\n",
    "                                 horizontal_flip=True,\n",
    "                                 fill_mode=\"nearest\")\n",
    "\n",
    "test_datagen= ImageDataGenerator(rescale=1.0/255)"
   ]
  },
  {
   "cell_type": "code",
   "execution_count": 58,
   "metadata": {},
   "outputs": [
    {
     "name": "stdout",
     "output_type": "stream",
     "text": [
      "Found 2520 images belonging to 3 classes.\n",
      "Found 372 images belonging to 3 classes.\n"
     ]
    }
   ],
   "source": [
    "train_data_generator= train_datagen.flow_from_directory(\"E:/Machine Learning/Machine Learning/Neural Networks/CNN/RockPaperScissor/rps\",\n",
    "                                                       target_size=(150,150),\n",
    "                                                       batch_size=128,\n",
    "                                                       class_mode=\"categorical\")\n",
    "\n",
    "test_data_generator= test_datagen.flow_from_directory(\"E:/Machine Learning/Machine Learning/Neural Networks/CNN/RockPaperScissor/rps-test-set\",\n",
    "                                                     target_size=(150,150),\n",
    "                                                     batch_size=128,\n",
    "                                                     class_mode=\"categorical\")"
   ]
  },
  {
   "cell_type": "code",
   "execution_count": 59,
   "metadata": {},
   "outputs": [],
   "source": [
    "model= Sequential()\n",
    "model.add(Conv2D(16,(3,3),activation=\"relu\",input_shape=(150,150,3)))\n",
    "model.add(MaxPool2D(2,2))\n",
    "model.add(Dropout(0.2))\n",
    "\n",
    "model.add(Conv2D(32,(3,3),activation=\"relu\"))\n",
    "model.add(MaxPool2D(2,2))\n",
    "model.add(Dropout(0.2))\n",
    "\n",
    "\n",
    "model.add(Conv2D(64,(3,3),activation=\"relu\"))\n",
    "model.add(MaxPool2D(2,2))\n",
    "model.add(Dropout(0.2))\n",
    "\n",
    "model.add(Conv2D(128,(3,3),activation=\"relu\"))\n",
    "model.add(MaxPool2D(2,2))\n",
    "model.add(Dropout(0.2))\n",
    "\n",
    "model.add(Flatten())\n",
    "model.add(Dense(128,activation=\"relu\"))\n",
    "model.add(Dense(256,activation=\"relu\"))\n",
    "\n",
    "model.add(Dense(3,activation=\"softmax\"))"
   ]
  },
  {
   "cell_type": "code",
   "execution_count": 60,
   "metadata": {},
   "outputs": [
    {
     "name": "stdout",
     "output_type": "stream",
     "text": [
      "Model: \"sequential_8\"\n",
      "_________________________________________________________________\n",
      "Layer (type)                 Output Shape              Param #   \n",
      "=================================================================\n",
      "conv2d_18 (Conv2D)           (None, 148, 148, 16)      448       \n",
      "_________________________________________________________________\n",
      "max_pooling2d_18 (MaxPooling (None, 74, 74, 16)        0         \n",
      "_________________________________________________________________\n",
      "dropout_17 (Dropout)         (None, 74, 74, 16)        0         \n",
      "_________________________________________________________________\n",
      "conv2d_19 (Conv2D)           (None, 72, 72, 32)        4640      \n",
      "_________________________________________________________________\n",
      "max_pooling2d_19 (MaxPooling (None, 36, 36, 32)        0         \n",
      "_________________________________________________________________\n",
      "dropout_18 (Dropout)         (None, 36, 36, 32)        0         \n",
      "_________________________________________________________________\n",
      "conv2d_20 (Conv2D)           (None, 34, 34, 64)        18496     \n",
      "_________________________________________________________________\n",
      "max_pooling2d_20 (MaxPooling (None, 17, 17, 64)        0         \n",
      "_________________________________________________________________\n",
      "dropout_19 (Dropout)         (None, 17, 17, 64)        0         \n",
      "_________________________________________________________________\n",
      "conv2d_21 (Conv2D)           (None, 15, 15, 128)       73856     \n",
      "_________________________________________________________________\n",
      "max_pooling2d_21 (MaxPooling (None, 7, 7, 128)         0         \n",
      "_________________________________________________________________\n",
      "dropout_20 (Dropout)         (None, 7, 7, 128)         0         \n",
      "_________________________________________________________________\n",
      "flatten_4 (Flatten)          (None, 6272)              0         \n",
      "_________________________________________________________________\n",
      "dense_9 (Dense)              (None, 128)               802944    \n",
      "_________________________________________________________________\n",
      "dense_10 (Dense)             (None, 256)               33024     \n",
      "_________________________________________________________________\n",
      "dense_11 (Dense)             (None, 3)                 771       \n",
      "=================================================================\n",
      "Total params: 934,179\n",
      "Trainable params: 934,179\n",
      "Non-trainable params: 0\n",
      "_________________________________________________________________\n"
     ]
    }
   ],
   "source": [
    "model.summary()"
   ]
  },
  {
   "cell_type": "code",
   "execution_count": 61,
   "metadata": {},
   "outputs": [],
   "source": [
    "model.compile(loss=\"categorical_crossentropy\",optimizer=RMSprop(lr=0.001),metrics=[\"accuracy\"])"
   ]
  },
  {
   "cell_type": "code",
   "execution_count": 62,
   "metadata": {},
   "outputs": [
    {
     "name": "stdout",
     "output_type": "stream",
     "text": [
      "WARNING:tensorflow:From <ipython-input-62-b81c828a268d>:6: Model.fit_generator (from tensorflow.python.keras.engine.training) is deprecated and will be removed in a future version.\n",
      "Instructions for updating:\n",
      "Please use Model.fit, which supports generators.\n",
      "Epoch 1/15\n",
      "49/50 [============================>.] - ETA: 3s - loss: 1.1971 - acc: 0.3501Epoch 1/15\n",
      "50/50 [==============================] - 33s 654ms/step - loss: 1.0937 - acc: 0.3326\n",
      "50/50 [==============================] - 197s 4s/step - loss: 1.1950 - acc: 0.3502 - val_loss: 1.0937 - val_acc: 0.3326\n",
      "Epoch 2/15\n",
      "49/50 [============================>.] - ETA: 2s - loss: 1.0531 - acc: 0.4473Epoch 1/15\n",
      "50/50 [==============================] - 31s 611ms/step - loss: 0.9762 - acc: 0.5077\n",
      "50/50 [==============================] - 137s 3s/step - loss: 1.0601 - acc: 0.4457 - val_loss: 0.9762 - val_acc: 0.5077\n",
      "Epoch 3/15\n",
      "49/50 [============================>.] - ETA: 1s - loss: 0.8359 - acc: 0.6250Epoch 1/15\n",
      "50/50 [==============================] - 30s 599ms/step - loss: 0.5282 - acc: 0.7924\n",
      "50/50 [==============================] - 128s 3s/step - loss: 0.8303 - acc: 0.6278 - val_loss: 0.5282 - val_acc: 0.7924\n",
      "Epoch 4/15\n",
      "49/50 [============================>.] - ETA: 2s - loss: 0.6032 - acc: 0.7547Epoch 1/15\n",
      "50/50 [==============================] - 30s 605ms/step - loss: 0.2644 - acc: 0.9652\n",
      "50/50 [==============================] - 130s 3s/step - loss: 0.5989 - acc: 0.7557 - val_loss: 0.2644 - val_acc: 0.9652\n",
      "Epoch 5/15\n",
      "49/50 [============================>.] - ETA: 1s - loss: 0.4007 - acc: 0.8454Epoch 1/15\n",
      "50/50 [==============================] - 30s 594ms/step - loss: 0.2343 - acc: 0.9517\n",
      "50/50 [==============================] - 128s 3s/step - loss: 0.4035 - acc: 0.8438 - val_loss: 0.2343 - val_acc: 0.9517\n",
      "Epoch 6/15\n",
      "49/50 [============================>.] - ETA: 2s - loss: 0.2993 - acc: 0.8889Epoch 1/15\n",
      "50/50 [==============================] - 31s 611ms/step - loss: 0.1229 - acc: 0.9705\n",
      "50/50 [==============================] - 135s 3s/step - loss: 0.2972 - acc: 0.8902 - val_loss: 0.1229 - val_acc: 0.9705\n",
      "Epoch 7/15\n",
      "49/50 [============================>.] - ETA: 1s - loss: 0.2062 - acc: 0.9217Epoch 1/15\n",
      "50/50 [==============================] - 30s 598ms/step - loss: 0.0891 - acc: 0.9836\n",
      "50/50 [==============================] - 128s 3s/step - loss: 0.2049 - acc: 0.9225 - val_loss: 0.0891 - val_acc: 0.9836\n",
      "Epoch 8/15\n",
      "49/50 [============================>.] - ETA: 2s - loss: 0.1420 - acc: 0.9498Epoch 1/15\n",
      "50/50 [==============================] - 31s 620ms/step - loss: 0.0791 - acc: 0.9702\n",
      "50/50 [==============================] - 134s 3s/step - loss: 0.1404 - acc: 0.9506 - val_loss: 0.0791 - val_acc: 0.9702\n",
      "Epoch 9/15\n",
      "49/50 [============================>.] - ETA: 2s - loss: 0.1493 - acc: 0.9457Epoch 1/15\n",
      "50/50 [==============================] - 29s 586ms/step - loss: 0.1110 - acc: 0.9707\n",
      "50/50 [==============================] - 132s 3s/step - loss: 0.1485 - acc: 0.9464 - val_loss: 0.1110 - val_acc: 0.9707\n",
      "Epoch 10/15\n",
      "49/50 [============================>.] - ETA: 1s - loss: 0.1199 - acc: 0.9576Epoch 1/15\n",
      "50/50 [==============================] - 30s 602ms/step - loss: 0.0957 - acc: 0.9676\n",
      "50/50 [==============================] - 130s 3s/step - loss: 0.1215 - acc: 0.9570 - val_loss: 0.0957 - val_acc: 0.9676\n",
      "Epoch 11/15\n",
      "49/50 [============================>.] - ETA: 1s - loss: 0.0917 - acc: 0.9685Epoch 1/15\n",
      "50/50 [==============================] - 30s 606ms/step - loss: 0.1184 - acc: 0.9596\n",
      "50/50 [==============================] - 128s 3s/step - loss: 0.0909 - acc: 0.9687 - val_loss: 0.1184 - val_acc: 0.9596\n",
      "Epoch 12/15\n",
      "49/50 [============================>.] - ETA: 2s - loss: 0.1102 - acc: 0.9623Epoch 1/15\n",
      "50/50 [==============================] - 30s 593ms/step - loss: 0.3182 - acc: 0.8531\n",
      "50/50 [==============================] - 131s 3s/step - loss: 0.1101 - acc: 0.9621 - val_loss: 0.3182 - val_acc: 0.8531\n",
      "Epoch 13/15\n",
      "49/50 [============================>.] - ETA: 1s - loss: 0.0816 - acc: 0.9740Epoch 1/15\n",
      "50/50 [==============================] - 30s 596ms/step - loss: 0.1038 - acc: 0.9652\n",
      "50/50 [==============================] - 127s 3s/step - loss: 0.0805 - acc: 0.9742 - val_loss: 0.1038 - val_acc: 0.9652\n",
      "Epoch 14/15\n",
      "49/50 [============================>.] - ETA: 2s - loss: 0.0781 - acc: 0.9734Epoch 1/15\n",
      "50/50 [==============================] - 30s 595ms/step - loss: 0.0697 - acc: 0.9650\n",
      "50/50 [==============================] - 131s 3s/step - loss: 0.0783 - acc: 0.9734 - val_loss: 0.0697 - val_acc: 0.9650\n",
      "Epoch 15/15\n",
      "49/50 [============================>.] - ETA: 1s - loss: 0.0695 - acc: 0.9774Epoch 1/15\n",
      "50/50 [==============================] - 30s 596ms/step - loss: 0.1294 - acc: 0.9520\n",
      "50/50 [==============================] - 128s 3s/step - loss: 0.0690 - acc: 0.9775 - val_loss: 0.1294 - val_acc: 0.9520\n"
     ]
    }
   ],
   "source": [
    "history= model.fit_generator(train_data_generator,\n",
    "                             steps_per_epoch=50,\n",
    "                             epochs=15,\n",
    "                             validation_data=test_data_generator,\n",
    "                             validation_steps=50,\n",
    "                             verbose=1)"
   ]
  },
  {
   "cell_type": "code",
   "execution_count": 63,
   "metadata": {},
   "outputs": [
    {
     "name": "stdout",
     "output_type": "stream",
     "text": [
      "50/50 [==============================] - 29s 576ms/step - loss: 0.1298 - acc: 0.9517\n"
     ]
    },
    {
     "data": {
      "text/plain": [
       "[0.12981187224388122, 0.95167524]"
      ]
     },
     "execution_count": 63,
     "metadata": {},
     "output_type": "execute_result"
    }
   ],
   "source": [
    "model.evaluate(test_data_generator,steps=50)"
   ]
  },
  {
   "cell_type": "code",
   "execution_count": 72,
   "metadata": {},
   "outputs": [
    {
     "data": {
      "image/png": "[encoded data removed]",
      "text/plain": [
       "<Figure size 432x288 with 1 Axes>"
      ]
     },
     "metadata": {
      "needs_background": "light"
     },
     "output_type": "display_data"
    },
    {
     "data": {
      "image/png": "[encoded data removed]",
      "text/plain": [
       "<Figure size 432x288 with 1 Axes>"
      ]
     },
     "metadata": {
      "needs_background": "light"
     },
     "output_type": "display_data"
    }
   ],
   "source": [
    "import matplotlib.pyplot as plt\n",
    "acc= history.history[\"acc\"]\n",
    "val_acc= history.history[\"val_acc\"]\n",
    "loss= history.history[\"loss\"]\n",
    "val_loss= history.history[\"val_loss\"]\n",
    "\n",
    "epochs=range(len(acc))\n",
    "\n",
    "plt.plot(epochs,acc,\"bo\",label=\"Training Accuracy\")\n",
    "plt.plot(epochs,val_acc,\"b\",label=\"Validation Accuracy\")\n",
    "plt.title(\"Training vs Validation Accuracy\")\n",
    "plt.legend()\n",
    "plt.figure()\n",
    "\n",
    "plt.plot(epochs,loss,\"bo\",label=\"Training Loss\")\n",
    "plt.plot(epochs,val_loss,label=\"Validation Loss\")\n",
    "plt.title(\"Training vs Validation Loss\")\n",
    "plt.legend()\n",
    "plt.show()"
   ]
  },
  {
   "cell_type": "code",
   "execution_count": 89,
   "metadata": {},
   "outputs": [
    {
     "name": "stdout",
     "output_type": "stream",
     "text": [
      "[[1. 0. 0.]]\n"
     ]
    }
   ],
   "source": [
    "from tensorflow.keras.preprocessing import image\n",
    "import numpy as np\n",
    "\n",
    "path= \"E:/Machine Learning/Machine Learning/Neural Networks/CNN/RockPaperScissor/Test/p3.jpg\"\n",
    "img= image.load_img(path,target_size=(150,150))\n",
    "x= image.img_to_array(img)\n",
    "x= np.expand_dims(x,axis=0)\n",
    "\n",
    "images= np.vstack([x])\n",
    "classes= model.predict(images,batch_size=10)\n",
    "print(classes)\n",
    "\n",
    "#[x,y,z]\n",
    "#x= Paper\n",
    "#y= Rock\n",
    "#z= Scissors"
   ]
  },
  {
   "cell_type": "code",
   "execution_count": null,
   "metadata": {},
   "outputs": [],
   "source": []
  }
 ],
 "metadata": {
  "kernelspec": {
   "display_name": "Python 3",
   "language": "python",
   "name": "python3"
  },
  "language_info": {
   "codemirror_mode": {
    "name": "ipython",
    "version": 3
   },
   "file_extension": ".py",
   "mimetype": "text/x-python",
   "name": "python",
   "nbconvert_exporter": "python",
   "pygments_lexer": "ipython3",
   "version": "3.6.8"
  }
 },
 "nbformat": 4,
 "nbformat_minor": 4
}
